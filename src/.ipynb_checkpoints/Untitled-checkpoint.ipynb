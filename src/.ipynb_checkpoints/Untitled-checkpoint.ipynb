{
 "cells": [
  {
   "cell_type": "code",
   "execution_count": 1,
   "id": "ad42fe1e",
   "metadata": {},
   "outputs": [],
   "source": [
    "github_url = 'https://github.com/datavedam/support-jobs/blob/main/annual-enterprise-survey-2021-financial-year-provisional-size-bands-csv.csv'\n",
    "github_url = 'https://github.com/datavedam/support-jobs/blob/main/annual-enterprise-survey-2021-financial-year-provisional-size-bands-csv.csv'\n",
    "github_url = 'https://raw.githubusercontent.com/datavedam/support-jobs/main/annual-enterprise-survey-2021-financial-year-provisional-size-bands-csv.csv'"
   ]
  },
  {
   "cell_type": "code",
   "execution_count": 2,
   "id": "87d01179",
   "metadata": {},
   "outputs": [],
   "source": [
    "import requests\n",
    "import base64"
   ]
  },
  {
   "cell_type": "code",
   "execution_count": 3,
   "id": "3a5ba6db",
   "metadata": {},
   "outputs": [
    {
     "name": "stdout",
     "output_type": "stream",
     "text": [
      "https://raw.githubusercontent.com/datavedam/support-jobs/main/annual-enterprise-survey-2021-financial-year-provisional-size-bands-csv.csv\n"
     ]
    }
   ],
   "source": [
    "download = requests.get(github_url).content\n",
    "print(github_url)"
   ]
  },
  {
   "cell_type": "code",
   "execution_count": 32,
   "id": "bf18fc5a",
   "metadata": {},
   "outputs": [],
   "source": [
    "content = download.decode('utf-8')\n",
    "with open('out.csv', 'w') as f:\n",
    "    f.write(content)\n",
    "    "
   ]
  },
  {
   "cell_type": "code",
   "execution_count": 27,
   "id": "5908de88",
   "metadata": {},
   "outputs": [
    {
     "name": "stdout",
     "output_type": "stream",
     "text": [
      "y\n"
     ]
    }
   ],
   "source": [
    "print(content)\n",
    "datavedam/Sfdvgaya1610#\n",
    "https://qn29156.us-east4.gcp.snowflakecomputing.com/console#/data/databases"
   ]
  },
  {
   "cell_type": "code",
   "execution_count": 15,
   "id": "303846f4",
   "metadata": {},
   "outputs": [
    {
     "name": "stdout",
     "output_type": "stream",
     "text": [
      "6.30.1\n"
     ]
    }
   ],
   "source": [
    "#!/usr/bin/env python\n",
    "import snowflake.connector\n",
    "\n",
    "# Gets the version\n",
    "ctx = snowflake.connector.connect(\n",
    "    user='datavedam02',\n",
    "    password='Hello@1234',\n",
    "    account='qn29156.us-east4.gcp'\n",
    "    )\n",
    "cs = ctx.cursor()\n",
    "try:\n",
    "    cs.execute(\"SELECT current_version()\")\n",
    "    one_row = cs.fetchone()\n",
    "    print(one_row[0])\n",
    "finally:\n",
    "    cs.close()\n",
    "ctx.close()"
   ]
  },
  {
   "cell_type": "code",
   "execution_count": 38,
   "id": "667383c2",
   "metadata": {},
   "outputs": [
    {
     "name": "stdout",
     "output_type": "stream",
     "text": [
      "Using role ACCOUNTADMIN\n",
      "Using database DEMO_DB\n",
      "Using warehouse TEST\n",
      "Using schema PUBLIC\n",
      "Table finance created...\n"
     ]
    }
   ],
   "source": [
    "github_url = 'https://raw.githubusercontent.com/datavedam/support-jobs/main/annual-enterprise-survey-2021-financial-year-provisional-size-bands-csv.csv'\n",
    "import requests\n",
    "import snowflake.connector as sf\n",
    "\n",
    "conn=sf.connect(user='datavedam',password='Sfdvgaya1610#',account='qn29156.us-east4.gcp')\n",
    "\n",
    "\n",
    "def download_github_content(link):\n",
    "    return requests.get(github_url).content.decode('utf-8')\n",
    "\n",
    "def save_to_file(filename, data):\n",
    "    with open(filename, 'w') as f:\n",
    "        f.write(data)\n",
    "\n",
    "def execute_query(connection, query):\n",
    "    cursor = connection.cursor()\n",
    "    cursor.execute(query)\n",
    "    cursor.close()\n",
    "    \n",
    "\n",
    "def load_data(filename):\n",
    "    try:\n",
    "        sql = 'use role {}'.format('ACCOUNTADMIN')\n",
    "        execute_query(conn, sql)\n",
    "        print('Using role ACCOUNTADMIN')\n",
    "\n",
    "        sql = 'use database {}'.format('DEMO_DB')\n",
    "        execute_query(conn, sql)\n",
    "        print('Using database DEMO_DB')\n",
    "\n",
    "        sql = 'use warehouse {}'.format('TEST')\n",
    "        execute_query(conn, sql)\n",
    "        print('Using warehouse TEST')\n",
    "\n",
    "        sql = 'use schema {}'.format('PUBLIC')\n",
    "        execute_query(conn, sql)\n",
    "        print('Using schema PUBLIC')\n",
    "\n",
    "        sql = 'create table finance(year varchar,industry_code_ANZSIC varchar,industry_name_ANZSIC varchar,rme_size_grp varchar,variable varchar,value varchar,unit varchar)'\n",
    "        execute_query(conn, sql)\n",
    "        print('Table finance created...')\n",
    "\n",
    "        sql = 'drop stage if exists data_stage'\n",
    "        execute_query(conn, sql)\n",
    "\n",
    "        sql = 'create stage data_stage file_format = (type = \"csv\" field_delimiter = \",\" skip_header = 1)'\n",
    "        execute_query(conn, sql)\n",
    "\n",
    "        csv_file = './'+filename\n",
    "        sql = \"PUT file://\" + csv_file + \" @DATA_STAGE auto_compress=true\"\n",
    "        execute_query(conn, sql)\n",
    "        print('Staging the data..')\n",
    "\n",
    "        sql = 'copy into finance from @DATA_STAGE/'+filename+'.gz file_format = (type = \"csv\" field_delimiter = \",\" skip_header = 1)' \\\n",
    "              'ON_ERROR = \"CONTINUE\" '\n",
    "        execute_query(conn, sql)\n",
    "        print('Data Loading completed')\n",
    "\n",
    "    except Exception as e:\n",
    "        print(e)\n",
    "        \n",
    "        \n",
    "data = download_github_content(github_url)\n",
    "filename='output2.csv'\n",
    "save_to_file(filename, data)\n",
    "load_data(filename)\n",
    "\n"
   ]
  },
  {
   "cell_type": "code",
   "execution_count": null,
   "id": "9f7aad64",
   "metadata": {},
   "outputs": [],
   "source": [
    "import snowflake.connector as sf\n",
    "\n",
    "conn=sf.connect(user='datavedam',password='Sfdvgaya1610#',account='qn29156.us-east4.gcp')\n",
    "\n",
    "def execute_query(connection, query):\n",
    "    cursor = connection.cursor()\n",
    "    cursor.execute(query)\n",
    "    cursor.close()\n",
    "\n",
    "\n",
    "try:\n",
    "    sql = 'use role {}'.format('ACCOUNTADMIN')\n",
    "    execute_query(conn, sql)\n",
    "\n",
    "    sql = 'use database {}'.format('DEMO_DB')\n",
    "    execute_query(conn, sql)\n",
    "\n",
    "    sql = 'use warehouse {}'.format('TEST')\n",
    "    execute_query(conn, sql)\n",
    "\n",
    "    sql = 'use schema {}'.format('PUBLIC')\n",
    "    execute_query(conn, sql)\n",
    "\n",
    "#     try:\n",
    "#         sql = 'alter warehouse {} resume'.format('DEMO0802')\n",
    "#         execute_query(conn, sql)\n",
    "#     except:\n",
    "#         pass\n",
    "\n",
    "#     sql = 'drop table if exists student_math_mark'\n",
    "#     execute_query(conn, sql)\n",
    "\n",
    "#     sql = 'create table student_math_mark(year varchar,industry_code_ANZSIC varchar,industry_name_ANZSIC varchar,rme_size_grp varchar,variable varchar,value varchar,unit varchar)'\n",
    "#     execute_query(conn, sql)\n",
    "\n",
    "#     sql = 'drop stage if exists data_stage'\n",
    "#     execute_query(conn, sql)\n",
    "\n",
    "#     sql = 'create stage data_stage file_format = (type = \"csv\" field_delimiter = \",\" skip_header = 1)'\n",
    "#     execute_query(conn, sql)\n",
    "\n",
    "#     csv_file = 'C:\\\\Users\\\\sumitku6\\\\Desktop\\\\Student_marks.csv'\n",
    "#     csv_file = './out.csv'\n",
    "#     sql = \"PUT file://\" + csv_file + \" @DATA_STAGE auto_compress=true\"\n",
    "#     execute_query(conn, sql)\n",
    "\n",
    "    sql = 'copy into student_math_mark from @DATA_STAGE/out.csv.gz file_format = (type = \"csv\" field_delimiter = \",\" skip_header = 1)' \\\n",
    "          'ON_ERROR = \"CONTINUE\" '\n",
    "    execute_query(conn, sql)\n",
    "\n",
    "#     sql = 'select * from \"DEMO_DB\".\"PUBLIC\".\"STUDENT_MATH_MARK\"'\n",
    "#     cursor = conn.cursor()\n",
    "#     cursor.execute(sql)\n",
    "#     for c in cursor:\n",
    "#         print(c)\n",
    "\n",
    "except Exception as e:\n",
    "    print(e)"
   ]
  }
 ],
 "metadata": {
  "kernelspec": {
   "display_name": "Python 3 (ipykernel)",
   "language": "python",
   "name": "python3"
  },
  "language_info": {
   "codemirror_mode": {
    "name": "ipython",
    "version": 3
   },
   "file_extension": ".py",
   "mimetype": "text/x-python",
   "name": "python",
   "nbconvert_exporter": "python",
   "pygments_lexer": "ipython3",
   "version": "3.7.13"
  }
 },
 "nbformat": 4,
 "nbformat_minor": 5
}
